{
  "cells": [
    {
      "cell_type": "markdown",
      "metadata": {
        "id": "0Csk__HD8k1Q"
      },
      "source": [
        "---\n",
        "# **Exercises - Example-Based Classification**\n",
        "---"
      ]
    },
    {
      "cell_type": "markdown",
      "metadata": {
        "id": "23zBcAzK2xVg"
      },
      "source": [
        "**Author**\n",
        "> Vitor Eduardo de Souza Costa\n",
        "\n",
        "**References**\n",
        "> - Solange Rezende. [Paradigma de aprendizado baseado em instâncias](https://edisciplinas.usp.br/pluginfile.php/8366136/mod_resource/content/1/Aula_15_IA_MedidasDistancia_KNN.pdf). Mai. de 2024."
      ]
    },
    {
      "cell_type": "markdown",
      "metadata": {},
      "source": [
        "## Importing necessary libraries"
      ]
    },
    {
      "cell_type": "code",
      "execution_count": 259,
      "metadata": {
        "cellView": "form",
        "id": "gdnnXiAs86lF"
      },
      "outputs": [],
      "source": [
        "import pandas as pd\n",
        "from sklearn.metrics import f1_score\n",
        "from sklearn.neighbors import KNeighborsClassifier\n",
        "from sklearn.model_selection import StratifiedKFold"
      ]
    },
    {
      "cell_type": "markdown",
      "metadata": {
        "id": "thW4WEjFHGK9"
      },
      "source": [
        "---\n",
        "## Exercise 1\n",
        "---"
      ]
    },
    {
      "cell_type": "markdown",
      "metadata": {
        "id": "pyIO6kwBHOL9"
      },
      "source": [
        "### Creating a dataset of patients registers to verify their diagnostic\n",
        "\n",
        "> On the proposed exercise, the available data are referent to six different patients, commenting their symptoms and respective diagnostic. The objective is utilizing this data to label new cases, compare results with theoretical awaited results and the Decision Trees results with this same dataset."
      ]
    },
    {
      "cell_type": "markdown",
      "metadata": {},
      "source": [
        "#### Writing dataset file to train"
      ]
    },
    {
      "cell_type": "code",
      "execution_count": 260,
      "metadata": {
        "cellView": "form",
        "colab": {
          "base_uri": "https://localhost:8080/"
        },
        "id": "eGeAR6qFINPL",
        "outputId": "bdba1db8-1941-41e5-b300-a29d34d3e0f2"
      },
      "outputs": [
        {
          "name": "stdout",
          "output_type": "stream",
          "text": [
            "Writing patients_register_train.tsv\n"
          ]
        }
      ],
      "source": [
        "%%writefile patients_register_train.tsv\n",
        "Nome;Febre;Enjôo;Manchas;Dores;Diagnóstico\n",
        "João;sim;sim;pequenas;sim;doente\n",
        "Pedro;não;não;grandes;não;saudável\n",
        "Maria;sim;sim;pequenas;não;saudável\n",
        "José;sim;não;grandes;sim;doente\n",
        "Ana;sim;não;pequenas;sim;saudável\n",
        "Leila;não;não;grandes;sim;doente"
      ]
    },
    {
      "cell_type": "markdown",
      "metadata": {},
      "source": [
        "#### Writing dataset file to predict"
      ]
    },
    {
      "cell_type": "code",
      "execution_count": 261,
      "metadata": {
        "cellView": "form",
        "colab": {
          "base_uri": "https://localhost:8080/"
        },
        "id": "hfiCXcqIIj2_",
        "outputId": "4ee962a1-d292-4f01-ac07-610a41ef201b"
      },
      "outputs": [
        {
          "name": "stdout",
          "output_type": "stream",
          "text": [
            "Writing patients_register_predict.tsv\n"
          ]
        }
      ],
      "source": [
        "%%writefile patients_register_predict.tsv\n",
        "Nome;Febre;Enjôo;Manchas;Dores\n",
        "Luis;não;não;pequenas;sim\n",
        "Laura;sim;sim;grandes;sim"
      ]
    },
    {
      "cell_type": "markdown",
      "metadata": {},
      "source": [
        "#### Reading dataset file to train"
      ]
    },
    {
      "cell_type": "code",
      "execution_count": 262,
      "metadata": {
        "cellView": "form",
        "colab": {
          "base_uri": "https://localhost:8080/",
          "height": 269
        },
        "id": "n7zaa5XYIUxj",
        "outputId": "48044612-fa9c-44a1-e34d-8d00c6e005de"
      },
      "outputs": [
        {
          "name": "stdout",
          "output_type": "stream",
          "text": [
            "      Febre Enjôo   Manchas Dores Diagnóstico\n",
            "Nome                                         \n",
            "João    sim   sim  pequenas   sim      doente\n",
            "Pedro   não   não   grandes   não    saudável\n",
            "Maria   sim   sim  pequenas   não    saudável\n",
            "José    sim   não   grandes   sim      doente\n",
            "Ana     sim   não  pequenas   sim    saudável\n",
            "Leila   não   não   grandes   sim      doente\n"
          ]
        }
      ],
      "source": [
        "patients_dataset_train = pd.read_csv('patients_register_train.tsv', index_col='Nome', sep=';')\n",
        "\n",
        "print(patients_dataset_train)"
      ]
    },
    {
      "cell_type": "markdown",
      "metadata": {},
      "source": [
        "#### Reading dataset file to predict"
      ]
    },
    {
      "cell_type": "code",
      "execution_count": 263,
      "metadata": {
        "cellView": "form",
        "colab": {
          "base_uri": "https://localhost:8080/",
          "height": 143
        },
        "id": "LRHAISeVJIPj",
        "outputId": "b04df7c2-ab49-4f55-a3ac-922fc305a3fd"
      },
      "outputs": [
        {
          "name": "stdout",
          "output_type": "stream",
          "text": [
            "      Febre Enjôo   Manchas Dores\n",
            "Nome                             \n",
            "Luis    não   não  pequenas   sim\n",
            "Laura   sim   sim   grandes   sim\n"
          ]
        }
      ],
      "source": [
        "patients_x_predict = pd.read_csv('patients_register_predict.tsv', index_col='Nome', sep=';')\n",
        "\n",
        "print(patients_x_predict)"
      ]
    },
    {
      "cell_type": "markdown",
      "metadata": {
        "id": "xJNsg6vz6Gm8"
      },
      "source": [
        "### Cleaning and treating the dataset\n",
        "\n",
        "> With the available data, It's necessary to facility its computational treatment, converting its symbolical values into numerical, conserving the order on ordinary values and keeping an unitary distance when there isn't an order. On our case, all we need to do is the conversion of categorical values into numerical."
      ]
    },
    {
      "cell_type": "markdown",
      "metadata": {},
      "source": [
        "#### Converting symbolical values into numerical to train"
      ]
    },
    {
      "cell_type": "code",
      "execution_count": 264,
      "metadata": {
        "cellView": "form",
        "colab": {
          "base_uri": "https://localhost:8080/"
        },
        "id": "hTaQ58RB6PgT",
        "outputId": "6d1982a3-0af6-4c21-a764-a5c512710ba6"
      },
      "outputs": [
        {
          "name": "stdout",
          "output_type": "stream",
          "text": [
            "       Febre  Enjôo  Manchas  Dores\n",
            "Nome                               \n",
            "João       1      1        0      1\n",
            "Pedro      0      0        1      0\n",
            "Maria      1      1        0      0\n",
            "José       1      0        1      1\n",
            "Ana        1      0        0      1\n",
            "Leila      0      0        1      1\n"
          ]
        },
        {
          "name": "stderr",
          "output_type": "stream",
          "text": [
            "C:\\Users\\Vitor Eduardo\\AppData\\Local\\Temp\\ipykernel_14452\\2815964650.py:1: FutureWarning: A value is trying to be set on a copy of a DataFrame or Series through chained assignment using an inplace method.\n",
            "The behavior will change in pandas 3.0. This inplace method will never work because the intermediate object on which we are setting values always behaves as a copy.\n",
            "\n",
            "For example, when doing 'df[col].method(value, inplace=True)', try using 'df.method({col: value}, inplace=True)' or df[col] = df[col].method(value) instead, to perform the operation inplace on the original object.\n",
            "\n",
            "\n",
            "  patients_dataset_train.Febre.replace({'sim': 1,'não': 0}, inplace=True)\n",
            "C:\\Users\\Vitor Eduardo\\AppData\\Local\\Temp\\ipykernel_14452\\2815964650.py:1: FutureWarning: Downcasting behavior in `replace` is deprecated and will be removed in a future version. To retain the old behavior, explicitly call `result.infer_objects(copy=False)`. To opt-in to the future behavior, set `pd.set_option('future.no_silent_downcasting', True)`\n",
            "  patients_dataset_train.Febre.replace({'sim': 1,'não': 0}, inplace=True)\n",
            "C:\\Users\\Vitor Eduardo\\AppData\\Local\\Temp\\ipykernel_14452\\2815964650.py:2: FutureWarning: A value is trying to be set on a copy of a DataFrame or Series through chained assignment using an inplace method.\n",
            "The behavior will change in pandas 3.0. This inplace method will never work because the intermediate object on which we are setting values always behaves as a copy.\n",
            "\n",
            "For example, when doing 'df[col].method(value, inplace=True)', try using 'df.method({col: value}, inplace=True)' or df[col] = df[col].method(value) instead, to perform the operation inplace on the original object.\n",
            "\n",
            "\n",
            "  patients_dataset_train.Enjôo.replace({'sim': 1,'não': 0}, inplace=True)\n",
            "C:\\Users\\Vitor Eduardo\\AppData\\Local\\Temp\\ipykernel_14452\\2815964650.py:2: FutureWarning: Downcasting behavior in `replace` is deprecated and will be removed in a future version. To retain the old behavior, explicitly call `result.infer_objects(copy=False)`. To opt-in to the future behavior, set `pd.set_option('future.no_silent_downcasting', True)`\n",
            "  patients_dataset_train.Enjôo.replace({'sim': 1,'não': 0}, inplace=True)\n",
            "C:\\Users\\Vitor Eduardo\\AppData\\Local\\Temp\\ipykernel_14452\\2815964650.py:3: FutureWarning: A value is trying to be set on a copy of a DataFrame or Series through chained assignment using an inplace method.\n",
            "The behavior will change in pandas 3.0. This inplace method will never work because the intermediate object on which we are setting values always behaves as a copy.\n",
            "\n",
            "For example, when doing 'df[col].method(value, inplace=True)', try using 'df.method({col: value}, inplace=True)' or df[col] = df[col].method(value) instead, to perform the operation inplace on the original object.\n",
            "\n",
            "\n",
            "  patients_dataset_train.Manchas.replace({'grandes': 1,'pequenas': 0}, inplace=True)\n",
            "C:\\Users\\Vitor Eduardo\\AppData\\Local\\Temp\\ipykernel_14452\\2815964650.py:3: FutureWarning: Downcasting behavior in `replace` is deprecated and will be removed in a future version. To retain the old behavior, explicitly call `result.infer_objects(copy=False)`. To opt-in to the future behavior, set `pd.set_option('future.no_silent_downcasting', True)`\n",
            "  patients_dataset_train.Manchas.replace({'grandes': 1,'pequenas': 0}, inplace=True)\n",
            "C:\\Users\\Vitor Eduardo\\AppData\\Local\\Temp\\ipykernel_14452\\2815964650.py:4: FutureWarning: A value is trying to be set on a copy of a DataFrame or Series through chained assignment using an inplace method.\n",
            "The behavior will change in pandas 3.0. This inplace method will never work because the intermediate object on which we are setting values always behaves as a copy.\n",
            "\n",
            "For example, when doing 'df[col].method(value, inplace=True)', try using 'df.method({col: value}, inplace=True)' or df[col] = df[col].method(value) instead, to perform the operation inplace on the original object.\n",
            "\n",
            "\n",
            "  patients_dataset_train.Dores.replace({'sim': 1,'não': 0}, inplace=True)\n",
            "C:\\Users\\Vitor Eduardo\\AppData\\Local\\Temp\\ipykernel_14452\\2815964650.py:4: FutureWarning: Downcasting behavior in `replace` is deprecated and will be removed in a future version. To retain the old behavior, explicitly call `result.infer_objects(copy=False)`. To opt-in to the future behavior, set `pd.set_option('future.no_silent_downcasting', True)`\n",
            "  patients_dataset_train.Dores.replace({'sim': 1,'não': 0}, inplace=True)\n",
            "C:\\Users\\Vitor Eduardo\\AppData\\Local\\Temp\\ipykernel_14452\\2815964650.py:5: FutureWarning: A value is trying to be set on a copy of a DataFrame or Series through chained assignment using an inplace method.\n",
            "The behavior will change in pandas 3.0. This inplace method will never work because the intermediate object on which we are setting values always behaves as a copy.\n",
            "\n",
            "For example, when doing 'df[col].method(value, inplace=True)', try using 'df.method({col: value}, inplace=True)' or df[col] = df[col].method(value) instead, to perform the operation inplace on the original object.\n",
            "\n",
            "\n",
            "  patients_dataset_train.Diagnóstico.replace({'saudável': 1,'doente': 0}, inplace=True)\n",
            "C:\\Users\\Vitor Eduardo\\AppData\\Local\\Temp\\ipykernel_14452\\2815964650.py:5: FutureWarning: Downcasting behavior in `replace` is deprecated and will be removed in a future version. To retain the old behavior, explicitly call `result.infer_objects(copy=False)`. To opt-in to the future behavior, set `pd.set_option('future.no_silent_downcasting', True)`\n",
            "  patients_dataset_train.Diagnóstico.replace({'saudável': 1,'doente': 0}, inplace=True)\n"
          ]
        }
      ],
      "source": [
        "patients_dataset_train.Febre.replace({'sim': 1,'não': 0}, inplace=True)\n",
        "patients_dataset_train.Enjôo.replace({'sim': 1,'não': 0}, inplace=True)\n",
        "patients_dataset_train.Manchas.replace({'grandes': 1,'pequenas': 0}, inplace=True)\n",
        "patients_dataset_train.Dores.replace({'sim': 1,'não': 0}, inplace=True)\n",
        "patients_dataset_train.Diagnóstico.replace({'saudável': 1,'doente': 0}, inplace=True)\n",
        "\n",
        "# Separating label from dataset\n",
        "patients_x = patients_dataset_train.drop(['Diagnóstico'], axis=1)\n",
        "patients_y = patients_dataset_train.Diagnóstico\n",
        "\n",
        "print(patients_x)"
      ]
    },
    {
      "cell_type": "markdown",
      "metadata": {},
      "source": [
        "#### Converting symbolical values into numerical to predict"
      ]
    },
    {
      "cell_type": "code",
      "execution_count": 265,
      "metadata": {
        "colab": {
          "base_uri": "https://localhost:8080/"
        },
        "id": "MTpVfSuv7kgk",
        "outputId": "0edecee1-4aef-46fe-ee68-dca657db37fa"
      },
      "outputs": [
        {
          "name": "stdout",
          "output_type": "stream",
          "text": [
            "       Febre  Enjôo  Manchas  Dores\n",
            "Nome                               \n",
            "Luis       0      0        0      1\n",
            "Laura      1      1        1      1\n"
          ]
        },
        {
          "name": "stderr",
          "output_type": "stream",
          "text": [
            "C:\\Users\\Vitor Eduardo\\AppData\\Local\\Temp\\ipykernel_14452\\1752504753.py:1: FutureWarning: A value is trying to be set on a copy of a DataFrame or Series through chained assignment using an inplace method.\n",
            "The behavior will change in pandas 3.0. This inplace method will never work because the intermediate object on which we are setting values always behaves as a copy.\n",
            "\n",
            "For example, when doing 'df[col].method(value, inplace=True)', try using 'df.method({col: value}, inplace=True)' or df[col] = df[col].method(value) instead, to perform the operation inplace on the original object.\n",
            "\n",
            "\n",
            "  patients_x_predict.Febre.replace({'sim': 1,'não': 0}, inplace=True)\n",
            "C:\\Users\\Vitor Eduardo\\AppData\\Local\\Temp\\ipykernel_14452\\1752504753.py:1: FutureWarning: Downcasting behavior in `replace` is deprecated and will be removed in a future version. To retain the old behavior, explicitly call `result.infer_objects(copy=False)`. To opt-in to the future behavior, set `pd.set_option('future.no_silent_downcasting', True)`\n",
            "  patients_x_predict.Febre.replace({'sim': 1,'não': 0}, inplace=True)\n",
            "C:\\Users\\Vitor Eduardo\\AppData\\Local\\Temp\\ipykernel_14452\\1752504753.py:2: FutureWarning: A value is trying to be set on a copy of a DataFrame or Series through chained assignment using an inplace method.\n",
            "The behavior will change in pandas 3.0. This inplace method will never work because the intermediate object on which we are setting values always behaves as a copy.\n",
            "\n",
            "For example, when doing 'df[col].method(value, inplace=True)', try using 'df.method({col: value}, inplace=True)' or df[col] = df[col].method(value) instead, to perform the operation inplace on the original object.\n",
            "\n",
            "\n",
            "  patients_x_predict.Enjôo.replace({'sim': 1,'não': 0}, inplace=True)\n",
            "C:\\Users\\Vitor Eduardo\\AppData\\Local\\Temp\\ipykernel_14452\\1752504753.py:2: FutureWarning: Downcasting behavior in `replace` is deprecated and will be removed in a future version. To retain the old behavior, explicitly call `result.infer_objects(copy=False)`. To opt-in to the future behavior, set `pd.set_option('future.no_silent_downcasting', True)`\n",
            "  patients_x_predict.Enjôo.replace({'sim': 1,'não': 0}, inplace=True)\n",
            "C:\\Users\\Vitor Eduardo\\AppData\\Local\\Temp\\ipykernel_14452\\1752504753.py:3: FutureWarning: A value is trying to be set on a copy of a DataFrame or Series through chained assignment using an inplace method.\n",
            "The behavior will change in pandas 3.0. This inplace method will never work because the intermediate object on which we are setting values always behaves as a copy.\n",
            "\n",
            "For example, when doing 'df[col].method(value, inplace=True)', try using 'df.method({col: value}, inplace=True)' or df[col] = df[col].method(value) instead, to perform the operation inplace on the original object.\n",
            "\n",
            "\n",
            "  patients_x_predict.Manchas.replace({'grandes': 1,'pequenas': 0}, inplace=True)\n",
            "C:\\Users\\Vitor Eduardo\\AppData\\Local\\Temp\\ipykernel_14452\\1752504753.py:3: FutureWarning: Downcasting behavior in `replace` is deprecated and will be removed in a future version. To retain the old behavior, explicitly call `result.infer_objects(copy=False)`. To opt-in to the future behavior, set `pd.set_option('future.no_silent_downcasting', True)`\n",
            "  patients_x_predict.Manchas.replace({'grandes': 1,'pequenas': 0}, inplace=True)\n",
            "C:\\Users\\Vitor Eduardo\\AppData\\Local\\Temp\\ipykernel_14452\\1752504753.py:4: FutureWarning: A value is trying to be set on a copy of a DataFrame or Series through chained assignment using an inplace method.\n",
            "The behavior will change in pandas 3.0. This inplace method will never work because the intermediate object on which we are setting values always behaves as a copy.\n",
            "\n",
            "For example, when doing 'df[col].method(value, inplace=True)', try using 'df.method({col: value}, inplace=True)' or df[col] = df[col].method(value) instead, to perform the operation inplace on the original object.\n",
            "\n",
            "\n",
            "  patients_x_predict.Dores.replace({'sim': 1,'não': 0}, inplace=True)\n",
            "C:\\Users\\Vitor Eduardo\\AppData\\Local\\Temp\\ipykernel_14452\\1752504753.py:4: FutureWarning: Downcasting behavior in `replace` is deprecated and will be removed in a future version. To retain the old behavior, explicitly call `result.infer_objects(copy=False)`. To opt-in to the future behavior, set `pd.set_option('future.no_silent_downcasting', True)`\n",
            "  patients_x_predict.Dores.replace({'sim': 1,'não': 0}, inplace=True)\n"
          ]
        }
      ],
      "source": [
        "patients_x_predict.Febre.replace({'sim': 1,'não': 0}, inplace=True)\n",
        "patients_x_predict.Enjôo.replace({'sim': 1,'não': 0}, inplace=True)\n",
        "patients_x_predict.Manchas.replace({'grandes': 1,'pequenas': 0}, inplace=True)\n",
        "patients_x_predict.Dores.replace({'sim': 1,'não': 0}, inplace=True)\n",
        "\n",
        "print(patients_x_predict)"
      ]
    },
    {
      "cell_type": "markdown",
      "metadata": {
        "id": "rayB2sTP8QDN"
      },
      "source": [
        "### Solution for K = 1\n",
        "\n",
        "> Creating a K-NN model where K = 1, looking to compare these obtained results for different values of K and theoretical values obtained at the Excel spreadsheet named \"*exercise_1.xlsx*\"."
      ]
    },
    {
      "cell_type": "markdown",
      "metadata": {},
      "source": [
        "#### Construction of the model"
      ]
    },
    {
      "cell_type": "code",
      "execution_count": 266,
      "metadata": {
        "id": "7bhG6d2A8VnG"
      },
      "outputs": [],
      "source": [
        "patients_k1 = KNeighborsClassifier(n_neighbors=1)"
      ]
    },
    {
      "cell_type": "markdown",
      "metadata": {},
      "source": [
        "#### Validation of the model"
      ]
    },
    {
      "cell_type": "markdown",
      "metadata": {},
      "source": [
        "##### Instance a Stratified KFold cross validation for K = 1"
      ]
    },
    {
      "cell_type": "code",
      "execution_count": 267,
      "metadata": {},
      "outputs": [],
      "source": [
        "# Defining Stratified KFold and the number of splits which our dataset should be divisible\n",
        "patients_skf_k1 = StratifiedKFold(n_splits=3)\n",
        "patients_k1_index = KNeighborsClassifier(n_neighbors=1)\n",
        "patients_accuracies_k1 = []\n",
        "patients_f1_scores_k1 = []\n",
        "\n",
        "# Defining train and test dataframes for each index prepared by SKF, then defining accuracy for each index results\n",
        "for i, (patients_train_index_k1, patients_test_index_k1) in enumerate(patients_skf_k1.split(patients_x, patients_y)):\n",
        "    patients_x_train_k1 = patients_x.iloc[patients_train_index_k1]\n",
        "    patients_y_train_k1 = patients_y.iloc[patients_train_index_k1]\n",
        "    patients_x_test_k1 = patients_x.iloc[patients_test_index_k1]\n",
        "    patients_y_test_k1 = patients_y.iloc[patients_test_index_k1]\n",
        "    patients_k1_index.fit(patients_x_train_k1,patients_y_train_k1)\n",
        "    patients_accuracies_k1.insert(i,patients_k1_index.score(patients_x_test_k1,patients_y_test_k1))\n",
        "    patients_f1_scores_k1.insert(i,f1_score(patients_y_test_k1,patients_k1_index.predict(patients_x_test_k1), average='weighted'))"
      ]
    },
    {
      "cell_type": "markdown",
      "metadata": {},
      "source": [
        "##### Showing accuracy results by Stratified KFold cross validation for K = 1"
      ]
    },
    {
      "cell_type": "code",
      "execution_count": 268,
      "metadata": {},
      "outputs": [
        {
          "name": "stdout",
          "output_type": "stream",
          "text": [
            "Accuracy of the model is:     0.0\n",
            "dtype: float64\n",
            "Its standard deviation is:     0.0\n",
            "dtype: float64\n",
            "\n",
            "\n",
            "F1 score of the model is:     0.0\n",
            "dtype: float64\n",
            "Its standard deviation is:     0.0\n",
            "dtype: float64\n"
          ]
        }
      ],
      "source": [
        "# Transforming the list of accuracies and F1 for each interactions of KFold into a dataframe\n",
        "patients_accuracies_k1_df = pd.DataFrame(data=patients_accuracies_k1, columns=[''])\n",
        "patients_f1_scores_k1_df = pd.DataFrame(data=patients_f1_scores_k1, columns=[''])\n",
        "\n",
        "# Calculating the accuracy of model as mean of accuracies and F1 from each split of SKF\n",
        "patients_accuracy_k1 = patients_accuracies_k1_df.mean()\n",
        "patients_f1_score_k1 = patients_f1_scores_k1_df.mean()\n",
        "\n",
        "# Getting standard deviation for accuracies\n",
        "patients_accuracy_std_k1 = patients_accuracies_k1_df.std()\n",
        "patients_f1_score_std_k1 = patients_f1_scores_k1_df.std()\n",
        "\n",
        "print(f\"Accuracy of the model is: {patients_accuracy_k1}\\nIts standard deviation is: {patients_accuracy_std_k1}\\n\\n\")\n",
        "print(f\"F1 score of the model is: {patients_f1_score_k1}\\nIts standard deviation is: {patients_f1_score_std_k1}\")"
      ]
    },
    {
      "cell_type": "markdown",
      "metadata": {},
      "source": [
        "#### Obtaining the label on examples to predict"
      ]
    },
    {
      "cell_type": "code",
      "execution_count": 269,
      "metadata": {
        "colab": {
          "base_uri": "https://localhost:8080/",
          "height": 143
        },
        "id": "6vSNSHiz8bwj",
        "outputId": "e31c1c88-c5ec-4ec9-855c-49a3ef39ac64"
      },
      "outputs": [
        {
          "name": "stdout",
          "output_type": "stream",
          "text": [
            "       Febre  Enjôo  Manchas  Dores  Diagnóstico\n",
            "Nome                                            \n",
            "Luis       0      0        0      1            1\n",
            "Laura      1      1        1      1            0\n"
          ]
        }
      ],
      "source": [
        "patients_classifier_k1 = patients_k1.fit(patients_x,patients_y)\n",
        "\n",
        "patients_classified_k1 = patients_classifier_k1.predict(patients_x_predict)\n",
        "patients_results_k1 = patients_x_predict.copy()\n",
        "patients_results_k1['Diagnóstico'] = patients_classified_k1\n",
        "\n",
        "print(patients_results_k1)"
      ]
    },
    {
      "cell_type": "markdown",
      "metadata": {},
      "source": [
        "#### Returning numerical values into categorical for better interpretation"
      ]
    },
    {
      "cell_type": "code",
      "execution_count": 270,
      "metadata": {
        "colab": {
          "base_uri": "https://localhost:8080/",
          "height": 143
        },
        "id": "aEV4mkXhshCs",
        "outputId": "fbdfe84d-cb1f-41a2-86d0-dd971c9ed92a"
      },
      "outputs": [
        {
          "name": "stdout",
          "output_type": "stream",
          "text": [
            "      Febre Enjôo   Manchas Dores Diagnóstico\n",
            "Nome                                         \n",
            "Luis    Não   Não  Pequenas   Sim    Saudável\n",
            "Laura   Sim   Sim   Grandes   Sim      Doente\n"
          ]
        },
        {
          "name": "stderr",
          "output_type": "stream",
          "text": [
            "C:\\Users\\Vitor Eduardo\\AppData\\Local\\Temp\\ipykernel_14452\\3956954353.py:1: FutureWarning: A value is trying to be set on a copy of a DataFrame or Series through chained assignment using an inplace method.\n",
            "The behavior will change in pandas 3.0. This inplace method will never work because the intermediate object on which we are setting values always behaves as a copy.\n",
            "\n",
            "For example, when doing 'df[col].method(value, inplace=True)', try using 'df.method({col: value}, inplace=True)' or df[col] = df[col].method(value) instead, to perform the operation inplace on the original object.\n",
            "\n",
            "\n",
            "  patients_results_k1.Febre.replace({0: 'Não', 1: 'Sim'}, inplace=True)\n",
            "C:\\Users\\Vitor Eduardo\\AppData\\Local\\Temp\\ipykernel_14452\\3956954353.py:2: FutureWarning: A value is trying to be set on a copy of a DataFrame or Series through chained assignment using an inplace method.\n",
            "The behavior will change in pandas 3.0. This inplace method will never work because the intermediate object on which we are setting values always behaves as a copy.\n",
            "\n",
            "For example, when doing 'df[col].method(value, inplace=True)', try using 'df.method({col: value}, inplace=True)' or df[col] = df[col].method(value) instead, to perform the operation inplace on the original object.\n",
            "\n",
            "\n",
            "  patients_results_k1.Enjôo.replace({0: 'Não', 1: 'Sim'}, inplace=True)\n",
            "C:\\Users\\Vitor Eduardo\\AppData\\Local\\Temp\\ipykernel_14452\\3956954353.py:3: FutureWarning: A value is trying to be set on a copy of a DataFrame or Series through chained assignment using an inplace method.\n",
            "The behavior will change in pandas 3.0. This inplace method will never work because the intermediate object on which we are setting values always behaves as a copy.\n",
            "\n",
            "For example, when doing 'df[col].method(value, inplace=True)', try using 'df.method({col: value}, inplace=True)' or df[col] = df[col].method(value) instead, to perform the operation inplace on the original object.\n",
            "\n",
            "\n",
            "  patients_results_k1.Dores.replace({0: 'Não', 1: 'Sim'}, inplace=True)\n",
            "C:\\Users\\Vitor Eduardo\\AppData\\Local\\Temp\\ipykernel_14452\\3956954353.py:4: FutureWarning: A value is trying to be set on a copy of a DataFrame or Series through chained assignment using an inplace method.\n",
            "The behavior will change in pandas 3.0. This inplace method will never work because the intermediate object on which we are setting values always behaves as a copy.\n",
            "\n",
            "For example, when doing 'df[col].method(value, inplace=True)', try using 'df.method({col: value}, inplace=True)' or df[col] = df[col].method(value) instead, to perform the operation inplace on the original object.\n",
            "\n",
            "\n",
            "  patients_results_k1.Manchas.replace({0: 'Pequenas', 1: 'Grandes'}, inplace=True)\n",
            "C:\\Users\\Vitor Eduardo\\AppData\\Local\\Temp\\ipykernel_14452\\3956954353.py:5: FutureWarning: A value is trying to be set on a copy of a DataFrame or Series through chained assignment using an inplace method.\n",
            "The behavior will change in pandas 3.0. This inplace method will never work because the intermediate object on which we are setting values always behaves as a copy.\n",
            "\n",
            "For example, when doing 'df[col].method(value, inplace=True)', try using 'df.method({col: value}, inplace=True)' or df[col] = df[col].method(value) instead, to perform the operation inplace on the original object.\n",
            "\n",
            "\n",
            "  patients_results_k1.Diagnóstico.replace({0: 'Doente', 1: 'Saudável'}, inplace=True)\n"
          ]
        }
      ],
      "source": [
        "patients_results_k1.Febre.replace({0: 'Não', 1: 'Sim'}, inplace=True)\n",
        "patients_results_k1.Enjôo.replace({0: 'Não', 1: 'Sim'}, inplace=True)\n",
        "patients_results_k1.Dores.replace({0: 'Não', 1: 'Sim'}, inplace=True)\n",
        "patients_results_k1.Manchas.replace({0: 'Pequenas', 1: 'Grandes'}, inplace=True)\n",
        "patients_results_k1.Diagnóstico.replace({0: 'Doente', 1: 'Saudável'}, inplace=True)\n",
        "\n",
        "print(patients_results_k1)"
      ]
    },
    {
      "cell_type": "markdown",
      "metadata": {
        "id": "2lzyc7-ptZk9"
      },
      "source": [
        "### Solution for K = 3\n",
        "\n",
        "> Creating a K-NN model where K = 3, looking to compare these obtained results for different values of K and theoretical values obtained at the Excel spreadsheet named \"*exercise_1.xlsx*\"."
      ]
    },
    {
      "cell_type": "markdown",
      "metadata": {},
      "source": [
        "#### Construction of the model"
      ]
    },
    {
      "cell_type": "code",
      "execution_count": 271,
      "metadata": {
        "id": "L7LYHzvatizt"
      },
      "outputs": [],
      "source": [
        "patients_k3 = KNeighborsClassifier(n_neighbors=3)"
      ]
    },
    {
      "cell_type": "markdown",
      "metadata": {},
      "source": [
        "#### Validation of the model"
      ]
    },
    {
      "cell_type": "markdown",
      "metadata": {},
      "source": [
        "##### Instance a Stratified KFold cross validation for K = 3"
      ]
    },
    {
      "cell_type": "code",
      "execution_count": 272,
      "metadata": {},
      "outputs": [],
      "source": [
        "# Defining Stratified KFold and the number of splits which our dataset should be divisible\n",
        "patients_skf_k3 = StratifiedKFold(n_splits=3)\n",
        "patients_k3_index = KNeighborsClassifier(n_neighbors=3)\n",
        "patients_accuracies_k3 = []\n",
        "patients_f1_scores_k3 = []\n",
        "\n",
        "# Defining train and test dataframes for each index prepared by SKF, then defining accuracy for each index results\n",
        "for i, (patients_train_index_k3, patients_test_index_k3) in enumerate(patients_skf_k3.split(patients_x, patients_y)):\n",
        "    patients_x_train_k3 = patients_x.iloc[patients_train_index_k3]\n",
        "    patients_y_train_k3 = patients_y.iloc[patients_train_index_k3]\n",
        "    patients_x_test_k3 = patients_x.iloc[patients_test_index_k3]\n",
        "    patients_y_test_k3 = patients_y.iloc[patients_test_index_k3]\n",
        "    patients_k3_index.fit(patients_x_train_k3,patients_y_train_k3)\n",
        "    patients_accuracies_k3.insert(i,patients_k3_index.score(patients_x_test_k3,patients_y_test_k3))\n",
        "    patients_f1_scores_k3.insert(i,f1_score(patients_y_test_k3,patients_k3_index.predict(patients_x_test_k3), average='weighted'))"
      ]
    },
    {
      "cell_type": "markdown",
      "metadata": {},
      "source": [
        "##### Showing accuracy results by Stratified KFold cross validation for K = 3"
      ]
    },
    {
      "cell_type": "code",
      "execution_count": 273,
      "metadata": {},
      "outputs": [
        {
          "name": "stdout",
          "output_type": "stream",
          "text": [
            "Accuracy of the model is:     0.5\n",
            "dtype: float64\n",
            "Its standard deviation is:     0.5\n",
            "dtype: float64\n",
            "\n",
            "\n",
            "F1 score of the model is:     0.444444\n",
            "dtype: float64\n",
            "Its standard deviation is:     0.509175\n",
            "dtype: float64\n"
          ]
        }
      ],
      "source": [
        "# Transforming the list of accuracies and F1 for each interactions of KFold into a dataframe\n",
        "patients_accuracies_k3_df = pd.DataFrame(data=patients_accuracies_k3, columns=[''])\n",
        "patients_f1_scores_k3_df = pd.DataFrame(data=patients_f1_scores_k3, columns=[''])\n",
        "\n",
        "# Calculating the accuracy of model as mean of accuracies and F1 from each split of SKF\n",
        "patients_accuracy_k3 = patients_accuracies_k3_df.mean()\n",
        "patients_f1_score_k3 = patients_f1_scores_k3_df.mean()\n",
        "\n",
        "# Getting standard deviation for accuracies\n",
        "patients_accuracy_std_k3 = patients_accuracies_k3_df.std()\n",
        "patients_f1_score_std_k3 = patients_f1_scores_k3_df.std()\n",
        "\n",
        "print(f\"Accuracy of the model is: {patients_accuracy_k3}\\nIts standard deviation is: {patients_accuracy_std_k3}\\n\\n\")\n",
        "print(f\"F1 score of the model is: {patients_f1_score_k3}\\nIts standard deviation is: {patients_f1_score_std_k3}\")"
      ]
    },
    {
      "cell_type": "markdown",
      "metadata": {},
      "source": [
        "#### Obtaining the label on examples to predict"
      ]
    },
    {
      "cell_type": "code",
      "execution_count": 274,
      "metadata": {
        "colab": {
          "base_uri": "https://localhost:8080/",
          "height": 143
        },
        "id": "UOmnF3tZtpwk",
        "outputId": "d4cd45bf-664d-484c-cc06-4aea16295080"
      },
      "outputs": [
        {
          "name": "stdout",
          "output_type": "stream",
          "text": [
            "       Febre  Enjôo  Manchas  Dores  Diagnóstico\n",
            "Nome                                            \n",
            "Luis       0      0        0      1            0\n",
            "Laura      1      1        1      1            0\n"
          ]
        }
      ],
      "source": [
        "patients_classifier_k3 = patients_k3.fit(patients_x,patients_y)\n",
        "\n",
        "patients_classified_k3 = patients_classifier_k3.predict(patients_x_predict)\n",
        "patients_results_k3 = patients_x_predict.copy()\n",
        "patients_results_k3['Diagnóstico'] = patients_classified_k3\n",
        "\n",
        "print(patients_results_k3)"
      ]
    },
    {
      "cell_type": "markdown",
      "metadata": {},
      "source": [
        "#### Returning numerical values into categorical for better interpretation"
      ]
    },
    {
      "cell_type": "code",
      "execution_count": 275,
      "metadata": {
        "colab": {
          "base_uri": "https://localhost:8080/",
          "height": 143
        },
        "id": "JaFOeSXot0gi",
        "outputId": "c9037c7d-0eab-4512-c9bf-c5aaf05454db"
      },
      "outputs": [
        {
          "name": "stdout",
          "output_type": "stream",
          "text": [
            "      Febre Enjôo   Manchas Dores Diagnóstico\n",
            "Nome                                         \n",
            "Luis    Não   Não  Pequenas   Sim      Doente\n",
            "Laura   Sim   Sim   Grandes   Sim      Doente\n"
          ]
        },
        {
          "name": "stderr",
          "output_type": "stream",
          "text": [
            "C:\\Users\\Vitor Eduardo\\AppData\\Local\\Temp\\ipykernel_14452\\2755171047.py:1: FutureWarning: A value is trying to be set on a copy of a DataFrame or Series through chained assignment using an inplace method.\n",
            "The behavior will change in pandas 3.0. This inplace method will never work because the intermediate object on which we are setting values always behaves as a copy.\n",
            "\n",
            "For example, when doing 'df[col].method(value, inplace=True)', try using 'df.method({col: value}, inplace=True)' or df[col] = df[col].method(value) instead, to perform the operation inplace on the original object.\n",
            "\n",
            "\n",
            "  patients_results_k3.Febre.replace({0: 'Não', 1: 'Sim'}, inplace=True)\n",
            "C:\\Users\\Vitor Eduardo\\AppData\\Local\\Temp\\ipykernel_14452\\2755171047.py:2: FutureWarning: A value is trying to be set on a copy of a DataFrame or Series through chained assignment using an inplace method.\n",
            "The behavior will change in pandas 3.0. This inplace method will never work because the intermediate object on which we are setting values always behaves as a copy.\n",
            "\n",
            "For example, when doing 'df[col].method(value, inplace=True)', try using 'df.method({col: value}, inplace=True)' or df[col] = df[col].method(value) instead, to perform the operation inplace on the original object.\n",
            "\n",
            "\n",
            "  patients_results_k3.Enjôo.replace({0: 'Não', 1: 'Sim'}, inplace=True)\n",
            "C:\\Users\\Vitor Eduardo\\AppData\\Local\\Temp\\ipykernel_14452\\2755171047.py:3: FutureWarning: A value is trying to be set on a copy of a DataFrame or Series through chained assignment using an inplace method.\n",
            "The behavior will change in pandas 3.0. This inplace method will never work because the intermediate object on which we are setting values always behaves as a copy.\n",
            "\n",
            "For example, when doing 'df[col].method(value, inplace=True)', try using 'df.method({col: value}, inplace=True)' or df[col] = df[col].method(value) instead, to perform the operation inplace on the original object.\n",
            "\n",
            "\n",
            "  patients_results_k3.Dores.replace({0: 'Não', 1: 'Sim'}, inplace=True)\n",
            "C:\\Users\\Vitor Eduardo\\AppData\\Local\\Temp\\ipykernel_14452\\2755171047.py:4: FutureWarning: A value is trying to be set on a copy of a DataFrame or Series through chained assignment using an inplace method.\n",
            "The behavior will change in pandas 3.0. This inplace method will never work because the intermediate object on which we are setting values always behaves as a copy.\n",
            "\n",
            "For example, when doing 'df[col].method(value, inplace=True)', try using 'df.method({col: value}, inplace=True)' or df[col] = df[col].method(value) instead, to perform the operation inplace on the original object.\n",
            "\n",
            "\n",
            "  patients_results_k3.Manchas.replace({0: 'Pequenas', 1: 'Grandes'}, inplace=True)\n",
            "C:\\Users\\Vitor Eduardo\\AppData\\Local\\Temp\\ipykernel_14452\\2755171047.py:5: FutureWarning: A value is trying to be set on a copy of a DataFrame or Series through chained assignment using an inplace method.\n",
            "The behavior will change in pandas 3.0. This inplace method will never work because the intermediate object on which we are setting values always behaves as a copy.\n",
            "\n",
            "For example, when doing 'df[col].method(value, inplace=True)', try using 'df.method({col: value}, inplace=True)' or df[col] = df[col].method(value) instead, to perform the operation inplace on the original object.\n",
            "\n",
            "\n",
            "  patients_results_k3.Diagnóstico.replace({0: 'Doente', 1: 'Saudável'}, inplace=True)\n"
          ]
        }
      ],
      "source": [
        "patients_results_k3.Febre.replace({0: 'Não', 1: 'Sim'}, inplace=True)\n",
        "patients_results_k3.Enjôo.replace({0: 'Não', 1: 'Sim'}, inplace=True)\n",
        "patients_results_k3.Dores.replace({0: 'Não', 1: 'Sim'}, inplace=True)\n",
        "patients_results_k3.Manchas.replace({0: 'Pequenas', 1: 'Grandes'}, inplace=True)\n",
        "patients_results_k3.Diagnóstico.replace({0: 'Doente', 1: 'Saudável'}, inplace=True)\n",
        "\n",
        "print(patients_results_k3)"
      ]
    },
    {
      "cell_type": "markdown",
      "metadata": {
        "id": "jTpjXv0owhIl"
      },
      "source": [
        "### Solution for K = 5\n",
        "\n",
        "> Creating a K-NN model where K = 5, looking to compare these obtained results for different values of K and theoretical values obtained at the Excel spreadsheet named \"*exercise_1.xlsx*\"."
      ]
    },
    {
      "cell_type": "markdown",
      "metadata": {},
      "source": [
        "#### Construction of the model"
      ]
    },
    {
      "cell_type": "code",
      "execution_count": 276,
      "metadata": {
        "id": "qUBq9nvXwka6"
      },
      "outputs": [],
      "source": [
        "patients_k5 = KNeighborsClassifier(n_neighbors=5)"
      ]
    },
    {
      "cell_type": "markdown",
      "metadata": {},
      "source": [
        "#### Validation of the model"
      ]
    },
    {
      "cell_type": "markdown",
      "metadata": {},
      "source": [
        "> Actually, because of the amount of examples on the dataset is limited, we're not able to determine the cross validation for k = 5, because to find the 5-nearest examples we need at least 6 examples, and It's exactly the number of examples we have in all dataset, so if we accomplish a split, we'll not have enough data to get 5-nearest examples."
      ]
    },
    {
      "cell_type": "markdown",
      "metadata": {},
      "source": [
        "#### Obtaining the label on examples to predict"
      ]
    },
    {
      "cell_type": "code",
      "execution_count": 277,
      "metadata": {},
      "outputs": [
        {
          "name": "stdout",
          "output_type": "stream",
          "text": [
            "       Febre  Enjôo  Manchas  Dores  Diagnóstico\n",
            "Nome                                            \n",
            "Luis       0      0        0      1            0\n",
            "Laura      1      1        1      1            0\n"
          ]
        }
      ],
      "source": [
        "patients_classifier_k5 = patients_k5.fit(patients_x,patients_y)\n",
        "\n",
        "patients_classified_k5 = patients_classifier_k5.predict(patients_x_predict)\n",
        "patients_results_k5 = patients_x_predict.copy()\n",
        "patients_results_k5['Diagnóstico'] = patients_classified_k5\n",
        "\n",
        "print(patients_results_k5)"
      ]
    },
    {
      "cell_type": "markdown",
      "metadata": {},
      "source": [
        "#### Returning numerical values into categorical for better interpretation"
      ]
    },
    {
      "cell_type": "code",
      "execution_count": 278,
      "metadata": {},
      "outputs": [
        {
          "name": "stdout",
          "output_type": "stream",
          "text": [
            "      Febre Enjôo   Manchas Dores Diagnóstico\n",
            "Nome                                         \n",
            "Luis    Não   Não  Pequenas   Sim      Doente\n",
            "Laura   Sim   Sim   Grandes   Sim      Doente\n"
          ]
        },
        {
          "name": "stderr",
          "output_type": "stream",
          "text": [
            "C:\\Users\\Vitor Eduardo\\AppData\\Local\\Temp\\ipykernel_14452\\3417442128.py:1: FutureWarning: A value is trying to be set on a copy of a DataFrame or Series through chained assignment using an inplace method.\n",
            "The behavior will change in pandas 3.0. This inplace method will never work because the intermediate object on which we are setting values always behaves as a copy.\n",
            "\n",
            "For example, when doing 'df[col].method(value, inplace=True)', try using 'df.method({col: value}, inplace=True)' or df[col] = df[col].method(value) instead, to perform the operation inplace on the original object.\n",
            "\n",
            "\n",
            "  patients_results_k5.Febre.replace({0: 'Não', 1: 'Sim'}, inplace=True)\n",
            "C:\\Users\\Vitor Eduardo\\AppData\\Local\\Temp\\ipykernel_14452\\3417442128.py:2: FutureWarning: A value is trying to be set on a copy of a DataFrame or Series through chained assignment using an inplace method.\n",
            "The behavior will change in pandas 3.0. This inplace method will never work because the intermediate object on which we are setting values always behaves as a copy.\n",
            "\n",
            "For example, when doing 'df[col].method(value, inplace=True)', try using 'df.method({col: value}, inplace=True)' or df[col] = df[col].method(value) instead, to perform the operation inplace on the original object.\n",
            "\n",
            "\n",
            "  patients_results_k5.Enjôo.replace({0: 'Não', 1: 'Sim'}, inplace=True)\n",
            "C:\\Users\\Vitor Eduardo\\AppData\\Local\\Temp\\ipykernel_14452\\3417442128.py:3: FutureWarning: A value is trying to be set on a copy of a DataFrame or Series through chained assignment using an inplace method.\n",
            "The behavior will change in pandas 3.0. This inplace method will never work because the intermediate object on which we are setting values always behaves as a copy.\n",
            "\n",
            "For example, when doing 'df[col].method(value, inplace=True)', try using 'df.method({col: value}, inplace=True)' or df[col] = df[col].method(value) instead, to perform the operation inplace on the original object.\n",
            "\n",
            "\n",
            "  patients_results_k5.Dores.replace({0: 'Não', 1: 'Sim'}, inplace=True)\n",
            "C:\\Users\\Vitor Eduardo\\AppData\\Local\\Temp\\ipykernel_14452\\3417442128.py:4: FutureWarning: A value is trying to be set on a copy of a DataFrame or Series through chained assignment using an inplace method.\n",
            "The behavior will change in pandas 3.0. This inplace method will never work because the intermediate object on which we are setting values always behaves as a copy.\n",
            "\n",
            "For example, when doing 'df[col].method(value, inplace=True)', try using 'df.method({col: value}, inplace=True)' or df[col] = df[col].method(value) instead, to perform the operation inplace on the original object.\n",
            "\n",
            "\n",
            "  patients_results_k5.Manchas.replace({0: 'Pequenas', 1: 'Grandes'}, inplace=True)\n",
            "C:\\Users\\Vitor Eduardo\\AppData\\Local\\Temp\\ipykernel_14452\\3417442128.py:5: FutureWarning: A value is trying to be set on a copy of a DataFrame or Series through chained assignment using an inplace method.\n",
            "The behavior will change in pandas 3.0. This inplace method will never work because the intermediate object on which we are setting values always behaves as a copy.\n",
            "\n",
            "For example, when doing 'df[col].method(value, inplace=True)', try using 'df.method({col: value}, inplace=True)' or df[col] = df[col].method(value) instead, to perform the operation inplace on the original object.\n",
            "\n",
            "\n",
            "  patients_results_k5.Diagnóstico.replace({0: 'Doente', 1: 'Saudável'}, inplace=True)\n"
          ]
        }
      ],
      "source": [
        "patients_results_k5.Febre.replace({0: 'Não', 1: 'Sim'}, inplace=True)\n",
        "patients_results_k5.Enjôo.replace({0: 'Não', 1: 'Sim'}, inplace=True)\n",
        "patients_results_k5.Dores.replace({0: 'Não', 1: 'Sim'}, inplace=True)\n",
        "patients_results_k5.Manchas.replace({0: 'Pequenas', 1: 'Grandes'}, inplace=True)\n",
        "patients_results_k5.Diagnóstico.replace({0: 'Doente', 1: 'Saudável'}, inplace=True)\n",
        "\n",
        "print(patients_results_k5)"
      ]
    },
    {
      "cell_type": "markdown",
      "metadata": {
        "id": "7SvHYdD8sl9a"
      },
      "source": [
        "---\n",
        "## Exercise 2\n",
        "---"
      ]
    },
    {
      "cell_type": "markdown",
      "metadata": {
        "id": "3DXEr_6vu7Wh"
      },
      "source": [
        "### Creating a dataset about scholarity and salary correlated to a class\n",
        "\n",
        "> On the presented exercise, It's available data referent scholarity, state and salary of different people. We're looking to register this available data to implement a solution to label new examples."
      ]
    },
    {
      "cell_type": "markdown",
      "metadata": {},
      "source": [
        "#### Writing dataset file to train"
      ]
    },
    {
      "cell_type": "code",
      "execution_count": 279,
      "metadata": {
        "colab": {
          "base_uri": "https://localhost:8080/"
        },
        "id": "4s4kPVO39oZc",
        "outputId": "f3bbd3e4-0a33-43de-c01d-bfed5b38d61b"
      },
      "outputs": [
        {
          "name": "stdout",
          "output_type": "stream",
          "text": [
            "Writing salary_scholarity_train.tsv\n"
          ]
        }
      ],
      "source": [
        "%%writefile salary_scholarity_train.tsv\n",
        "Estado;Escolaridade;Altura;Salário;Classe\n",
        "SP;Médio;180;3000;A\n",
        "RJ;Superior;174;7000;B\n",
        "RS;Médio;180;600;B\n",
        "RJ;Superior;100;2000;A\n",
        "SP;Fundamental;178;5000;A\n",
        "RJ;Fundamental;188;1800;A\n"
      ]
    },
    {
      "cell_type": "markdown",
      "metadata": {},
      "source": [
        "#### Writing dataset file to predict"
      ]
    },
    {
      "cell_type": "code",
      "execution_count": 280,
      "metadata": {
        "cellView": "form",
        "colab": {
          "base_uri": "https://localhost:8080/"
        },
        "id": "QONBBdIT40H4",
        "outputId": "2228ff0b-60e7-43a5-a383-e650c8ad3baf"
      },
      "outputs": [
        {
          "name": "stdout",
          "output_type": "stream",
          "text": [
            "Writing salary_scholarity_predict.tsv\n"
          ]
        }
      ],
      "source": [
        "%%writefile salary_scholarity_predict.tsv\n",
        "Estado;Escolaridade;Altura;Salário\n",
        "RJ;Médio;178;2000\n",
        "SP;Superior;200;800"
      ]
    },
    {
      "cell_type": "markdown",
      "metadata": {},
      "source": [
        "#### Reading dataset file to train"
      ]
    },
    {
      "cell_type": "code",
      "execution_count": 281,
      "metadata": {
        "cellView": "form",
        "colab": {
          "base_uri": "https://localhost:8080/"
        },
        "id": "INdDuyZjqhXt",
        "outputId": "1b6f2370-8a4a-4e0e-9de7-95180381e644"
      },
      "outputs": [
        {
          "name": "stdout",
          "output_type": "stream",
          "text": [
            "  Estado Escolaridade  Altura  Salário Classe\n",
            "0     SP        Médio     180     3000      A\n",
            "1     RJ     Superior     174     7000      B\n",
            "2     RS        Médio     180      600      B\n",
            "3     RJ     Superior     100     2000      A\n",
            "4     SP  Fundamental     178     5000      A\n",
            "5     RJ  Fundamental     188     1800      A\n"
          ]
        }
      ],
      "source": [
        "salary_dataset = pd.read_csv('salary_scholarity_train.tsv', sep=';')\n",
        "\n",
        "print(salary_dataset)"
      ]
    },
    {
      "cell_type": "markdown",
      "metadata": {},
      "source": [
        "#### Reading dataset file to predict"
      ]
    },
    {
      "cell_type": "code",
      "execution_count": 282,
      "metadata": {
        "cellView": "form",
        "colab": {
          "base_uri": "https://localhost:8080/"
        },
        "id": "_OjWJOTC5mVP",
        "outputId": "23ee7e68-fbdf-4072-a0da-4be18766ed3b"
      },
      "outputs": [
        {
          "name": "stdout",
          "output_type": "stream",
          "text": [
            "  Estado Escolaridade  Altura  Salário\n",
            "0     RJ        Médio     178     2000\n",
            "1     SP     Superior     200      800\n"
          ]
        }
      ],
      "source": [
        "# @title Lendo dataset com valores a classificar\n",
        "\n",
        "salary_x_predict = pd.read_csv('salary_scholarity_predict.tsv', sep=';')\n",
        "\n",
        "print(salary_x_predict)"
      ]
    },
    {
      "cell_type": "markdown",
      "metadata": {
        "id": "ZqZiKTIMvu6T"
      },
      "source": [
        "### Cleaning and treating the datasets\n",
        "\n",
        "> With this available data, It's necessary to facility the computational treatment, so we need to convert symbolical values into numerical, conserving its order if It's an ordinary value and keeping unitary distance for non-ordinary values. At our dataset, we just need to convert categorical values into numerical."
      ]
    },
    {
      "cell_type": "markdown",
      "metadata": {},
      "source": [
        "#### Converting categorical values into numerical to train dataset"
      ]
    },
    {
      "cell_type": "code",
      "execution_count": 283,
      "metadata": {
        "colab": {
          "base_uri": "https://localhost:8080/"
        },
        "id": "odRQOdsbwJyO",
        "outputId": "ffd310dc-1425-4018-894b-5aaf570876f1"
      },
      "outputs": [
        {
          "name": "stderr",
          "output_type": "stream",
          "text": [
            "C:\\Users\\Vitor Eduardo\\AppData\\Local\\Temp\\ipykernel_14452\\2578220733.py:2: FutureWarning: A value is trying to be set on a copy of a DataFrame or Series through chained assignment using an inplace method.\n",
            "The behavior will change in pandas 3.0. This inplace method will never work because the intermediate object on which we are setting values always behaves as a copy.\n",
            "\n",
            "For example, when doing 'df[col].method(value, inplace=True)', try using 'df.method({col: value}, inplace=True)' or df[col] = df[col].method(value) instead, to perform the operation inplace on the original object.\n",
            "\n",
            "\n",
            "  salary_dataset.Classe.replace({'A': 1,'B': 0}, inplace=True)\n",
            "C:\\Users\\Vitor Eduardo\\AppData\\Local\\Temp\\ipykernel_14452\\2578220733.py:2: FutureWarning: Downcasting behavior in `replace` is deprecated and will be removed in a future version. To retain the old behavior, explicitly call `result.infer_objects(copy=False)`. To opt-in to the future behavior, set `pd.set_option('future.no_silent_downcasting', True)`\n",
            "  salary_dataset.Classe.replace({'A': 1,'B': 0}, inplace=True)\n",
            "C:\\Users\\Vitor Eduardo\\AppData\\Local\\Temp\\ipykernel_14452\\2578220733.py:3: FutureWarning: A value is trying to be set on a copy of a DataFrame or Series through chained assignment using an inplace method.\n",
            "The behavior will change in pandas 3.0. This inplace method will never work because the intermediate object on which we are setting values always behaves as a copy.\n",
            "\n",
            "For example, when doing 'df[col].method(value, inplace=True)', try using 'df.method({col: value}, inplace=True)' or df[col] = df[col].method(value) instead, to perform the operation inplace on the original object.\n",
            "\n",
            "\n",
            "  salary_dataset.Escolaridade.replace({'Superior': 2, 'Médio': 1, 'Fundamental': 0}, inplace=True)\n",
            "C:\\Users\\Vitor Eduardo\\AppData\\Local\\Temp\\ipykernel_14452\\2578220733.py:3: FutureWarning: Downcasting behavior in `replace` is deprecated and will be removed in a future version. To retain the old behavior, explicitly call `result.infer_objects(copy=False)`. To opt-in to the future behavior, set `pd.set_option('future.no_silent_downcasting', True)`\n",
            "  salary_dataset.Escolaridade.replace({'Superior': 2, 'Médio': 1, 'Fundamental': 0}, inplace=True)\n"
          ]
        },
        {
          "name": "stdout",
          "output_type": "stream",
          "text": [
            "   RJ  RS  SP  Escolaridade  Altura  Salário\n",
            "0   0   0   1             1     180     3000\n",
            "1   1   0   0             2     174     7000\n",
            "2   0   1   0             1     180      600\n",
            "3   1   0   0             2     100     2000\n",
            "4   0   0   1             0     178     5000\n",
            "5   1   0   0             0     188     1800\n",
            "\n",
            "0    1\n",
            "1    0\n",
            "2    0\n",
            "3    1\n",
            "4    1\n",
            "5    1\n",
            "Name: Classe, dtype: int64\n"
          ]
        }
      ],
      "source": [
        "# Symbolical values with unitary distance or ordinary values with defined order\n",
        "salary_dataset.Classe.replace({'A': 1,'B': 0}, inplace=True)\n",
        "salary_dataset.Escolaridade.replace({'Superior': 2, 'Médio': 1, 'Fundamental': 0}, inplace=True)\n",
        "\n",
        "# Treatment to keep unitary distance at non-ordinary values\n",
        "salary_onehot = pd.get_dummies(salary_dataset.Estado,dtype=int)\n",
        "salary_dataset = pd.concat([salary_onehot, salary_dataset.drop('Estado', axis=1)], axis=1)\n",
        "\n",
        "# Separating label from the other attributes of dataset\n",
        "salary_x = salary_dataset.drop('Classe', axis=1)\n",
        "salary_y = salary_dataset.Classe.copy()\n",
        "print(f\"{salary_x}\\n\\n{salary_y}\")\n"
      ]
    },
    {
      "cell_type": "markdown",
      "metadata": {},
      "source": [
        "#### Converting categorical values into numerical to predict dataset"
      ]
    },
    {
      "cell_type": "code",
      "execution_count": 284,
      "metadata": {
        "cellView": "form",
        "colab": {
          "base_uri": "https://localhost:8080/"
        },
        "id": "511vocOw6Sg5",
        "outputId": "71a7320e-4843-46d2-e9c0-b7014fe13a25"
      },
      "outputs": [
        {
          "name": "stdout",
          "output_type": "stream",
          "text": [
            "   RJ  RS  SP  Escolaridade  Altura  Salário\n",
            "0   1   0   0             1     178     2000\n",
            "1   0   0   1             2     200      800\n"
          ]
        },
        {
          "name": "stderr",
          "output_type": "stream",
          "text": [
            "C:\\Users\\Vitor Eduardo\\AppData\\Local\\Temp\\ipykernel_14452\\971434930.py:2: FutureWarning: A value is trying to be set on a copy of a DataFrame or Series through chained assignment using an inplace method.\n",
            "The behavior will change in pandas 3.0. This inplace method will never work because the intermediate object on which we are setting values always behaves as a copy.\n",
            "\n",
            "For example, when doing 'df[col].method(value, inplace=True)', try using 'df.method({col: value}, inplace=True)' or df[col] = df[col].method(value) instead, to perform the operation inplace on the original object.\n",
            "\n",
            "\n",
            "  salary_x_predict.Escolaridade.replace({'Superior': 2, 'Médio': 1, 'Fundamental': 0}, inplace=True)\n",
            "C:\\Users\\Vitor Eduardo\\AppData\\Local\\Temp\\ipykernel_14452\\971434930.py:2: FutureWarning: Downcasting behavior in `replace` is deprecated and will be removed in a future version. To retain the old behavior, explicitly call `result.infer_objects(copy=False)`. To opt-in to the future behavior, set `pd.set_option('future.no_silent_downcasting', True)`\n",
            "  salary_x_predict.Escolaridade.replace({'Superior': 2, 'Médio': 1, 'Fundamental': 0}, inplace=True)\n"
          ]
        }
      ],
      "source": [
        "# Symbolical values with unitary distance or ordinary values with defined order\n",
        "salary_x_predict.Escolaridade.replace({'Superior': 2, 'Médio': 1, 'Fundamental': 0}, inplace=True)\n",
        "\n",
        "# Treatment to keep unitary distance at non-ordinary values\n",
        "salary_onehot_predict = pd.get_dummies(salary_x_predict.Estado,dtype=int)\n",
        "salary_x_predict = pd.concat([salary_onehot_predict, salary_x_predict.drop('Estado', axis=1)], axis=1)\n",
        "\n",
        "# Recovering lost column RS for the predict dataset to keep the same shape as train dataset\n",
        "RS = [0]*len(salary_x_predict.RJ)\n",
        "RS_pd = pd.DataFrame(RS,columns=['RS'])\n",
        "\n",
        "salary_x_predict = pd.concat([salary_x_predict.RJ,RS_pd,salary_x_predict.drop('RJ', axis=1)],axis=1)\n",
        "print(salary_x_predict)"
      ]
    },
    {
      "cell_type": "markdown",
      "metadata": {
        "id": "G_9Uaqka3KnM"
      },
      "source": [
        "### Solution for K = 1\n",
        "\n",
        "> Creating a K-NN model where K = 1, looking to compare these obtained results for different values of K and theoretical values obtained at the Excel spreadsheet named \"*exercise_2.xlsx*\"."
      ]
    },
    {
      "cell_type": "markdown",
      "metadata": {},
      "source": [
        "#### Construction of the model"
      ]
    },
    {
      "cell_type": "code",
      "execution_count": 285,
      "metadata": {},
      "outputs": [],
      "source": [
        "salary_k1 = KNeighborsClassifier(n_neighbors=1)"
      ]
    },
    {
      "cell_type": "markdown",
      "metadata": {},
      "source": [
        "#### Validation of the model"
      ]
    },
    {
      "cell_type": "markdown",
      "metadata": {},
      "source": [
        "##### Instance a Stratified KFold cross validation for K = 1"
      ]
    },
    {
      "cell_type": "code",
      "execution_count": 286,
      "metadata": {},
      "outputs": [
        {
          "name": "stderr",
          "output_type": "stream",
          "text": [
            "c:\\Users\\Vitor Eduardo\\Desktop\\IA\\SCC0530-AI\\venv\\Lib\\site-packages\\sklearn\\model_selection\\_split.py:776: UserWarning: The least populated class in y has only 2 members, which is less than n_splits=3.\n",
            "  warnings.warn(\n"
          ]
        }
      ],
      "source": [
        "# Defining Stratified KFold and the number of splits which our dataset should be divisible\n",
        "salary_skf_k1 = StratifiedKFold(n_splits=3)\n",
        "salary_k1_index = KNeighborsClassifier(n_neighbors=1)\n",
        "salary_accuracies_k1 = []\n",
        "salary_f1_scores_k1 = []\n",
        "\n",
        "# Defining train and test dataframes for each index prepared by SKF, then defining accuracy for each index results\n",
        "for i, (salary_train_index_k1, salary_test_index_k1) in enumerate(salary_skf_k1.split(salary_x, salary_y)):\n",
        "    salary_x_train_k1 = salary_x.iloc[salary_train_index_k1]\n",
        "    salary_y_train_k1 = salary_y.iloc[salary_train_index_k1]\n",
        "    salary_x_test_k1 = salary_x.iloc[salary_test_index_k1]\n",
        "    salary_y_test_k1 = salary_y.iloc[salary_test_index_k1]\n",
        "    salary_k1_index.fit(salary_x_train_k1,y_train_k1)\n",
        "    salary_accuracies_k1.insert(i,salary_k1_index.score(salary_x_test_k1,salary_y_test_k1))\n",
        "    salary_f1_scores_k1.insert(i,f1_score(salary_y_test_k1,salary_k1_index.predict(salary_x_test_k1), average='weighted'))"
      ]
    },
    {
      "cell_type": "markdown",
      "metadata": {},
      "source": [
        "##### Showing accuracy results by Stratified KFold cross validation for K = 1"
      ]
    },
    {
      "cell_type": "code",
      "execution_count": 287,
      "metadata": {},
      "outputs": [
        {
          "name": "stdout",
          "output_type": "stream",
          "text": [
            "Accuracy of the model is:     0.333333\n",
            "dtype: float64\n",
            "Its standard deviation is:     0.288675\n",
            "dtype: float64\n",
            "\n",
            "\n",
            "F1 score of the model is:     0.222222\n",
            "dtype: float64\n",
            "Its standard deviation is:     0.19245\n",
            "dtype: float64\n"
          ]
        }
      ],
      "source": [
        "# Transforming the list of accuracies and F1 for each interactions of KFold into a dataframe\n",
        "salary_accuracies_k1_df = pd.DataFrame(data=salary_accuracies_k1, columns=[''])\n",
        "salary_f1_scores_k1_df = pd.DataFrame(data=salary_f1_scores_k1, columns=[''])\n",
        "\n",
        "# Calculating the accuracy of model as mean of accuracies and F1 from each split of SKF\n",
        "salary_accuracy_k1 = salary_accuracies_k1_df.mean()\n",
        "salary_f1_score_k1 = salary_f1_scores_k1_df.mean()\n",
        "\n",
        "# Getting standard deviation for accuracies\n",
        "salary_accuracy_std_k1 = salary_accuracies_k1_df.std()\n",
        "salary_f1_score_std_k1 = salary_f1_scores_k1_df.std()\n",
        "\n",
        "print(f\"Accuracy of the model is: {salary_accuracy_k1}\\nIts standard deviation is: {salary_accuracy_std_k1}\\n\\n\")\n",
        "print(f\"F1 score of the model is: {salary_f1_score_k1}\\nIts standard deviation is: {salary_f1_score_std_k1}\")"
      ]
    },
    {
      "cell_type": "markdown",
      "metadata": {},
      "source": [
        "#### Obtaining the label on examples to predict"
      ]
    },
    {
      "cell_type": "code",
      "execution_count": 288,
      "metadata": {},
      "outputs": [
        {
          "name": "stdout",
          "output_type": "stream",
          "text": [
            "   RJ  RS  SP  Escolaridade  Altura  Salário  Classe\n",
            "0   1   0   0             1     178     2000       1\n",
            "1   0   0   1             2     200      800       0\n"
          ]
        }
      ],
      "source": [
        "salary_classifier_k1 = salary_k1.fit(salary_x,salary_y)\n",
        "\n",
        "salary_classified_k1 = salary_classifier_k1.predict(salary_x_predict)\n",
        "salary_results_k1 = salary_x_predict.copy()\n",
        "salary_results_k1['Classe'] = salary_classified_k1\n",
        "\n",
        "print(salary_results_k1)"
      ]
    },
    {
      "cell_type": "markdown",
      "metadata": {},
      "source": [
        "#### Returning numerical values into categorical for better interpretation"
      ]
    },
    {
      "cell_type": "code",
      "execution_count": 289,
      "metadata": {},
      "outputs": [
        {
          "name": "stdout",
          "output_type": "stream",
          "text": [
            "  Estado Escolaridade  Altura  Salário Classe\n",
            "0     RJ        Médio     178     2000      A\n",
            "1     SP     Superior     200      800      B\n"
          ]
        },
        {
          "name": "stderr",
          "output_type": "stream",
          "text": [
            "C:\\Users\\Vitor Eduardo\\AppData\\Local\\Temp\\ipykernel_14452\\2370807877.py:1: FutureWarning: A value is trying to be set on a copy of a DataFrame or Series through chained assignment using an inplace method.\n",
            "The behavior will change in pandas 3.0. This inplace method will never work because the intermediate object on which we are setting values always behaves as a copy.\n",
            "\n",
            "For example, when doing 'df[col].method(value, inplace=True)', try using 'df.method({col: value}, inplace=True)' or df[col] = df[col].method(value) instead, to perform the operation inplace on the original object.\n",
            "\n",
            "\n",
            "  salary_results_k1.Escolaridade.replace({1:'Médio',2:'Superior'}, inplace=True)\n",
            "C:\\Users\\Vitor Eduardo\\AppData\\Local\\Temp\\ipykernel_14452\\2370807877.py:2: FutureWarning: A value is trying to be set on a copy of a DataFrame or Series through chained assignment using an inplace method.\n",
            "The behavior will change in pandas 3.0. This inplace method will never work because the intermediate object on which we are setting values always behaves as a copy.\n",
            "\n",
            "For example, when doing 'df[col].method(value, inplace=True)', try using 'df.method({col: value}, inplace=True)' or df[col] = df[col].method(value) instead, to perform the operation inplace on the original object.\n",
            "\n",
            "\n",
            "  salary_results_k1.Classe.replace({1:'A',0:'B'}, inplace=True)\n"
          ]
        }
      ],
      "source": [
        "salary_results_k1.Escolaridade.replace({1:'Médio',2:'Superior'}, inplace=True)\n",
        "salary_results_k1.Classe.replace({1:'A',0:'B'}, inplace=True)\n",
        "salary_dummies_k1 = pd.concat([salary_results_k1.RJ, salary_results_k1.RS, salary_results_k1.SP], axis=1)\n",
        "salary_onecold_k1 = pd.from_dummies(salary_dummies_k1)\n",
        "salary_onecold_k1.rename(columns={'':'Estado'}, inplace=True)\n",
        "salary_results_k1 = pd.concat([salary_onecold_k1, salary_results_k1.drop(['RJ','RS','SP'], axis=1)], axis=1)\n",
        "\n",
        "print(salary_results_k1)"
      ]
    },
    {
      "cell_type": "markdown",
      "metadata": {
        "id": "1Hm4LYXADMta"
      },
      "source": [
        "### Solution for K = 3\n",
        "\n",
        "> Creating a K-NN model where K = 3, looking to compare these obtained results for different values of K and theoretical values obtained at the Excel spreadsheet named \"*exercise_2.xlsx*\"."
      ]
    },
    {
      "cell_type": "markdown",
      "metadata": {},
      "source": [
        "#### Construction of the model"
      ]
    },
    {
      "cell_type": "code",
      "execution_count": 290,
      "metadata": {},
      "outputs": [],
      "source": [
        "salary_k3 = KNeighborsClassifier(n_neighbors=3)"
      ]
    },
    {
      "cell_type": "markdown",
      "metadata": {},
      "source": [
        "#### Validation of the model"
      ]
    },
    {
      "cell_type": "markdown",
      "metadata": {},
      "source": [
        "##### Instance a Stratified KFold cross validation for K = 3"
      ]
    },
    {
      "cell_type": "code",
      "execution_count": 291,
      "metadata": {},
      "outputs": [
        {
          "name": "stderr",
          "output_type": "stream",
          "text": [
            "c:\\Users\\Vitor Eduardo\\Desktop\\IA\\SCC0530-AI\\venv\\Lib\\site-packages\\sklearn\\model_selection\\_split.py:776: UserWarning: The least populated class in y has only 2 members, which is less than n_splits=3.\n",
            "  warnings.warn(\n"
          ]
        }
      ],
      "source": [
        "# Defining Stratified KFold and the number of splits which our dataset should be divisible\n",
        "salary_skf_k3 = StratifiedKFold(n_splits=3)\n",
        "salary_k3_index = KNeighborsClassifier(n_neighbors=3)\n",
        "salary_accuracies_k3 = []\n",
        "salary_f1_scores_k3 = []\n",
        "\n",
        "# Defining train and test dataframes for each index prepared by SKF, then defining accuracy for each index results\n",
        "for i, (salary_train_index_k3, salary_test_index_k3) in enumerate(salary_skf_k3.split(salary_x, salary_y)):\n",
        "    salary_x_train_k3 = salary_x.iloc[salary_train_index_k3]\n",
        "    salary_y_train_k3 = salary_y.iloc[salary_train_index_k3]\n",
        "    salary_x_test_k3 = salary_x.iloc[salary_test_index_k3]\n",
        "    salary_y_test_k3 = salary_y.iloc[salary_test_index_k3]\n",
        "    salary_k3_index.fit(salary_x_train_k3,salary_y_train_k3)\n",
        "    salary_accuracies_k3.insert(i,salary_k3_index.score(salary_x_test_k3,salary_y_test_k3))\n",
        "    salary_f1_scores_k3.insert(i,f1_score(salary_y_test_k3,salary_k3_index.predict(salary_x_test_k3), average='weighted'))"
      ]
    },
    {
      "cell_type": "markdown",
      "metadata": {},
      "source": [
        "##### Showing accuracy results by Stratified KFold cross validation for K = 3"
      ]
    },
    {
      "cell_type": "code",
      "execution_count": 292,
      "metadata": {},
      "outputs": [
        {
          "name": "stdout",
          "output_type": "stream",
          "text": [
            "Accuracy of the model is:     0.666667\n",
            "dtype: float64\n",
            "Its standard deviation is:     0.288675\n",
            "dtype: float64\n",
            "\n",
            "\n",
            "F1 score of the model is:     0.555556\n",
            "dtype: float64\n",
            "Its standard deviation is:     0.3849\n",
            "dtype: float64\n"
          ]
        }
      ],
      "source": [
        "# Transforming the list of accuracies and F1 for each interactions of KFold into a dataframe\n",
        "salary_accuracies_k3_df = pd.DataFrame(data=salary_accuracies_k3, columns=[''])\n",
        "salary_f1_scores_k3_df = pd.DataFrame(data=salary_f1_scores_k3, columns=[''])\n",
        "\n",
        "# Calculating the accuracy of model as mean of accuracies and F1 from each split of SKF\n",
        "salary_accuracy_k3 = salary_accuracies_k3_df.mean()\n",
        "salary_f1_score_k3 = salary_f1_scores_k3_df.mean()\n",
        "\n",
        "# Getting standard deviation for accuracies\n",
        "salary_accuracy_std_k3 = salary_accuracies_k3_df.std()\n",
        "salary_f1_score_std_k3 = salary_f1_scores_k3_df.std()\n",
        "\n",
        "print(f\"Accuracy of the model is: {salary_accuracy_k3}\\nIts standard deviation is: {salary_accuracy_std_k3}\\n\\n\")\n",
        "print(f\"F1 score of the model is: {salary_f1_score_k3}\\nIts standard deviation is: {salary_f1_score_std_k3}\")"
      ]
    },
    {
      "cell_type": "markdown",
      "metadata": {},
      "source": [
        "#### Obtaining the label on examples to predict"
      ]
    },
    {
      "cell_type": "code",
      "execution_count": 293,
      "metadata": {},
      "outputs": [
        {
          "name": "stdout",
          "output_type": "stream",
          "text": [
            "   RJ  RS  SP  Escolaridade  Altura  Salário  Classe\n",
            "0   1   0   0             1     178     2000       1\n",
            "1   0   0   1             2     200      800       1\n"
          ]
        }
      ],
      "source": [
        "salary_classifier_k3 = salary_k3.fit(salary_x,salary_y)\n",
        "\n",
        "salary_classified_k3 = salary_classifier_k3.predict(salary_x_predict)\n",
        "salary_results_k3 = salary_x_predict.copy()\n",
        "salary_results_k3['Classe'] = salary_classified_k3\n",
        "\n",
        "print(salary_results_k3)"
      ]
    },
    {
      "cell_type": "markdown",
      "metadata": {},
      "source": [
        "#### Returning numerical values into categorical for better interpretation"
      ]
    },
    {
      "cell_type": "code",
      "execution_count": 294,
      "metadata": {},
      "outputs": [
        {
          "name": "stdout",
          "output_type": "stream",
          "text": [
            "  Estado Escolaridade  Altura  Salário Classe\n",
            "0     RJ        Médio     178     2000      A\n",
            "1     SP     Superior     200      800      A\n"
          ]
        },
        {
          "name": "stderr",
          "output_type": "stream",
          "text": [
            "C:\\Users\\Vitor Eduardo\\AppData\\Local\\Temp\\ipykernel_14452\\2552035569.py:1: FutureWarning: A value is trying to be set on a copy of a DataFrame or Series through chained assignment using an inplace method.\n",
            "The behavior will change in pandas 3.0. This inplace method will never work because the intermediate object on which we are setting values always behaves as a copy.\n",
            "\n",
            "For example, when doing 'df[col].method(value, inplace=True)', try using 'df.method({col: value}, inplace=True)' or df[col] = df[col].method(value) instead, to perform the operation inplace on the original object.\n",
            "\n",
            "\n",
            "  salary_results_k3.Escolaridade.replace({1:'Médio',2:'Superior'}, inplace=True)\n",
            "C:\\Users\\Vitor Eduardo\\AppData\\Local\\Temp\\ipykernel_14452\\2552035569.py:2: FutureWarning: A value is trying to be set on a copy of a DataFrame or Series through chained assignment using an inplace method.\n",
            "The behavior will change in pandas 3.0. This inplace method will never work because the intermediate object on which we are setting values always behaves as a copy.\n",
            "\n",
            "For example, when doing 'df[col].method(value, inplace=True)', try using 'df.method({col: value}, inplace=True)' or df[col] = df[col].method(value) instead, to perform the operation inplace on the original object.\n",
            "\n",
            "\n",
            "  salary_results_k3.Classe.replace({1:'A',0:'B'}, inplace=True)\n"
          ]
        }
      ],
      "source": [
        "salary_results_k3.Escolaridade.replace({1:'Médio',2:'Superior'}, inplace=True)\n",
        "salary_results_k3.Classe.replace({1:'A',0:'B'}, inplace=True)\n",
        "salary_dummies_k3 = pd.concat([salary_results_k3.RJ, salary_results_k3.RS, salary_results_k3.SP], axis=1)\n",
        "salary_onecold_k3 = pd.from_dummies(salary_dummies_k3)\n",
        "salary_onecold_k3.rename(columns={'':'Estado'}, inplace=True)\n",
        "salary_results_k3 = pd.concat([salary_onecold_k3, salary_results_k3.drop(['RJ','RS','SP'], axis=1)], axis=1)\n",
        "\n",
        "print(salary_results_k3)"
      ]
    }
  ],
  "metadata": {
    "colab": {
      "collapsed_sections": [
        "pyIO6kwBHOL9",
        "xJNsg6vz6Gm8",
        "rayB2sTP8QDN",
        "jTpjXv0owhIl",
        "7SvHYdD8sl9a",
        "3DXEr_6vu7Wh",
        "ZqZiKTIMvu6T"
      ],
      "provenance": []
    },
    "kernelspec": {
      "display_name": "Python 3",
      "name": "python3"
    },
    "language_info": {
      "codemirror_mode": {
        "name": "ipython",
        "version": 3
      },
      "file_extension": ".py",
      "mimetype": "text/x-python",
      "name": "python",
      "nbconvert_exporter": "python",
      "pygments_lexer": "ipython3",
      "version": "3.12.3"
    }
  },
  "nbformat": 4,
  "nbformat_minor": 0
}
